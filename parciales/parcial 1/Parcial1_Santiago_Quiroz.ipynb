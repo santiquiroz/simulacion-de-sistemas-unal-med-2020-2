{
 "cells": [
  {
   "cell_type": "markdown",
   "metadata": {},
   "source": [
    "Santiago Quiroz Upegui cc: 1036678350. Grupo 1\n",
    "\n",
    "SIMULACIÓN DE SISTEMAS - 3007331\n",
    "\n",
    "PARCIAL 1\n"
   ]
  },
  {
   "cell_type": "code",
   "execution_count": 12,
   "metadata": {},
   "outputs": [],
   "source": [
    "import random\n",
    "import math\n",
    "import matplotlib.pyplot as plt\n",
    "import numpy as np\n",
    "from scipy.stats import t\n",
    "from scipy.stats import kstest"
   ]
  },
  {
   "cell_type": "markdown",
   "metadata": {},
   "source": []
  },
  {
   "cell_type": "markdown",
   "metadata": {},
   "source": [
    "# punto 1"
   ]
  },
  {
   "cell_type": "markdown",
   "metadata": {},
   "source": [
    "## definimos funciones para generar el tiempo para completar la duatlo que se distribuye a + c\n",
    "\n",
    "para a el valor maximo de su fdp es en x = 48 f(48) = M  \n",
    "osea M = f(48)\n",
    "\n",
    "el dominio de la distribucion es 48,60\n",
    "\n",
    "el valor maximo de la fdp en una triangualar es 2/(b-a) en este caso M =  2/(60-48) = 0.16666666666\n",
    "\n",
    "## segun el metodo de aceptacion -  rechazo: \n",
    "\n",
    "g(x) =  (f(x)/M) = (f(x)/26 , con g(x) < 1\n",
    "\n",
    "### si genero 2 aleatorios (r1 , r2) y se cumple lo siguiente:\n",
    "\n",
    "sea x = a + (b - a)r1 = 2 + (3 - 1) r1\n",
    "\n",
    "si r2 <= g(x)\n",
    "\n",
    "### x es una variable aleatoria valida para usar en nuestra simulacion\n",
    "\n",
    "### asi que solo hay que repetir la generacion de aleatorios con hasta que se cumpla la condicion\n"
   ]
  },
  {
   "cell_type": "code",
   "execution_count": 2,
   "metadata": {},
   "outputs": [],
   "source": [
    "\n",
    "def fdpTriangular (a,c,b,x):\n",
    "    if a < x <=c:\n",
    "        fdp = ((x-a)**2)/((b-a)*(c-a))\n",
    "        return fdp\n",
    "    elif c < x <=b :\n",
    "        fdp = 1 - ((b-x)**2)/((b-a)*(b-c))\n",
    "        return fdp\n",
    "    else :\n",
    "        return 0\n",
    "\n",
    "def genA ():\n",
    "    a = 48\n",
    "    b = 60\n",
    "    c = 48\n",
    "    M = 2/(60-48)\n",
    "    while True :\n",
    "        r1 = random.uniform(0, 1)\n",
    "        r2 = random.uniform(0, 1)\n",
    "        x = a + (b - a) * r1\n",
    "        g = (fdpTriangular(a,c,b,x)/M)\n",
    "        if r2 <= g:\n",
    "            return x \n",
    "    \n",
    "def genC ():\n",
    "    x = random.uniform(25,55)\n",
    "    return x\n",
    "\n",
    "def genTiempoDuatlon ():\n",
    "    return genA() + genC()"
   ]
  },
  {
   "cell_type": "markdown",
   "metadata": {},
   "source": [
    "## definimos funciones para calcular estadisticos necesario y para la creacion de un intervalo de confianza"
   ]
  },
  {
   "cell_type": "code",
   "execution_count": 3,
   "metadata": {},
   "outputs": [],
   "source": [
    "#funcion que calcula los estimadores necesarios para el intervalo de confianza de la media y retorna una tupla (media, desviacion)\n",
    "def calcularEstimadores(datos):\n",
    "    media = np.mean(datos)\n",
    "    desviacionEstandar = np.std(datos)\n",
    "    return (media, desviacionEstandar)\n",
    "\n",
    "def calcularIntervaloConfianzaMedia(media, desviacionEstandar, numeroSimulaciones, alfa):\n",
    "    #calculando el intervalo de confianza\n",
    "    t_tabla= t.ppf(1-(alfa/2),(numeroSimulaciones-1))\n",
    "    print(\"valor t con grados de libertad α/2 y n-1 \", t_tabla)\n",
    "    derecha =media+(t_tabla)*(desviacionEstandar/(numeroSimulaciones**1/2))\n",
    "    izquierda = media-(t_tabla)*(desviacionEstandar/(numeroSimulaciones**1/2))\n",
    "    return (izquierda,derecha)"
   ]
  },
  {
   "cell_type": "markdown",
   "metadata": {},
   "source": [
    "## simulamos 12 corredores"
   ]
  },
  {
   "cell_type": "code",
   "execution_count": 4,
   "metadata": {},
   "outputs": [],
   "source": [
    "def simular(n):\n",
    "    datosSimulacion = []\n",
    "    for i in range(0,n):\n",
    "        datosSimulacion.append(genTiempoDuatlon ())\n",
    "    return datosSimulacion"
   ]
  },
  {
   "cell_type": "code",
   "execution_count": 5,
   "metadata": {
    "tags": []
   },
   "outputs": [
    {
     "output_type": "stream",
     "name": "stdout",
     "text": "el tiempo del ganador fue  74.67532597662083\nel tiempo del perdedor fue  113.0408306354223\n"
    }
   ],
   "source": [
    "n = 12\n",
    "datosSimulacion=simular(n)\n",
    "tiempoGanador = np.amin(datosSimulacion)\n",
    "print (\"el tiempo del ganador fue \", tiempoGanador)\n",
    "tiempoPerdedor = np.amax(datosSimulacion)\n",
    "print(\"el tiempo del perdedor fue \", tiempoPerdedor)"
   ]
  },
  {
   "cell_type": "markdown",
   "metadata": {},
   "source": [
    "## generamos un intervalo de confianza del 95% para la media "
   ]
  },
  {
   "cell_type": "code",
   "execution_count": 6,
   "metadata": {
    "tags": []
   },
   "outputs": [
    {
     "output_type": "stream",
     "name": "stdout",
     "text": "valor t con grados de libertad α/2 y n-1  2.200985160082949\nUn intervalo con un 95 por ciento de confianza para la media poblacional del tiempo promedio para completar la duatlon es: \n(94.16354611305209, 103.88783537346424)\n"
    }
   ],
   "source": [
    "alfa = 0.05\n",
    "media, desviacionEstandar = calcularEstimadores(datosSimulacion)\n",
    "intervalo = calcularIntervaloConfianzaMedia(media, desviacionEstandar, n, alfa)\n",
    "print(\"Un intervalo con un 95 por ciento de confianza para la media poblacional del tiempo promedio para completar la duatlon es: \")\n",
    "print(intervalo)"
   ]
  },
  {
   "cell_type": "markdown",
   "metadata": {},
   "source": [
    "## AHORA CON LOS DATOS QUE NOS DIERON DE LOS ALEATORIOS"
   ]
  },
  {
   "cell_type": "code",
   "execution_count": 7,
   "metadata": {},
   "outputs": [],
   "source": [
    "def genTiempoDuatlonQuemados (atletismo,ciclo):\n",
    "    return [x + y for x, y in zip(atletismo, ciclo)]"
   ]
  },
  {
   "cell_type": "code",
   "execution_count": 8,
   "metadata": {
    "tags": []
   },
   "outputs": [
    {
     "output_type": "stream",
     "name": "stdout",
     "text": "el tiempo del ganador fue  0.3\nel tiempo del perdedor fue  1.55\n"
    }
   ],
   "source": [
    "atletismo = [0.08,0.59,0.82,0.09,0.78,0.64,0.64,0.80,0.07,0.07,0.14,0.80]\n",
    "ciclo = [0.22,0.44,0.54,0.82,0.77,0.88,0.65,0.50,0.51,0.46,0.72,0.03]\n",
    "datosSimulacion = genTiempoDuatlonQuemados(atletismo,ciclo)\n",
    "tiempoGanador = np.amin(datosSimulacion)\n",
    "print (\"el tiempo del ganador fue \", tiempoGanador)\n",
    "tiempoPerdedor = np.amax(datosSimulacion)\n",
    "print(\"el tiempo del perdedor fue \", tiempoPerdedor)"
   ]
  },
  {
   "cell_type": "markdown",
   "metadata": {},
   "source": [
    "## generamos un intervalo de confianza del 95% para la media "
   ]
  },
  {
   "cell_type": "code",
   "execution_count": 9,
   "metadata": {
    "tags": []
   },
   "outputs": [
    {
     "output_type": "stream",
     "name": "stdout",
     "text": "valor t con grados de libertad α/2 y n-1  2.200985160082949\nUn intervalo con un 95 por ciento de confianza para la media poblacional del tiempo promedio para completar la duatlon es: \n(0.8620967393915606, 1.1479032606084392)\n"
    }
   ],
   "source": [
    "alfa = 0.05\n",
    "media, desviacionEstandar = calcularEstimadores(datosSimulacion)\n",
    "intervalo = calcularIntervaloConfianzaMedia(media, desviacionEstandar, n, alfa)\n",
    "print(\"Un intervalo con un 95 por ciento de confianza para la media poblacional del tiempo promedio para completar la duatlon es: \")\n",
    "print(intervalo)"
   ]
  },
  {
   "cell_type": "markdown",
   "metadata": {},
   "source": [
    "# punto 2\n"
   ]
  },
  {
   "cell_type": "code",
   "execution_count": 10,
   "metadata": {},
   "outputs": [],
   "source": [
    "def genAleatorios(x, a, c,m, n):\n",
    "    numeros = []\n",
    "    random.seed(9)\n",
    "    numeros.append((a*x + c)%m)\n",
    "    for i in range (0, n-1):\n",
    "        numeros.append(((a*(numeros[-1])) + c)%m)\n",
    "    return numeros\n",
    " \n"
   ]
  },
  {
   "cell_type": "code",
   "execution_count": 11,
   "metadata": {
    "tags": []
   },
   "outputs": [
    {
     "output_type": "stream",
     "name": "stdout",
     "text": "[43, 11, 16, 40, 21, 3, 2, 46, 1, 29, 17, 57, 5, 36, 14, 6, 53, 59, 39, 4]\n"
    }
   ],
   "source": [
    "a = 17\n",
    "m = 61\n",
    "x = 9\n",
    "c =12\n",
    "n = 20\n",
    "aleatorios = genAleatorios(x, a, c, m, n)\n",
    "print(aleatorios)\n"
   ]
  },
  {
   "cell_type": "markdown",
   "metadata": {},
   "source": [
    "# haciendo la prueba kolmogorob"
   ]
  },
  {
   "cell_type": "code",
   "execution_count": 13,
   "metadata": {},
   "outputs": [
    {
     "output_type": "error",
     "ename": "TypeError",
     "evalue": "kstest() missing 1 required positional argument: 'cdf'",
     "traceback": [
      "\u001b[1;31m---------------------------------------------------------------------------\u001b[0m",
      "\u001b[1;31mTypeError\u001b[0m                                 Traceback (most recent call last)",
      "\u001b[1;32m<ipython-input-13-91d70dc617d4>\u001b[0m in \u001b[0;36m<module>\u001b[1;34m\u001b[0m\n\u001b[1;32m----> 1\u001b[1;33m \u001b[0mprint\u001b[0m \u001b[1;33m(\u001b[0m\u001b[0mkstest\u001b[0m\u001b[1;33m(\u001b[0m\u001b[0maleatorios\u001b[0m\u001b[1;33m)\u001b[0m\u001b[1;33m,\u001b[0m\u001b[1;34m'norm'\u001b[0m\u001b[1;33m)\u001b[0m\u001b[1;33m\u001b[0m\u001b[1;33m\u001b[0m\u001b[0m\n\u001b[0m",
      "\u001b[1;31mTypeError\u001b[0m: kstest() missing 1 required positional argument: 'cdf'"
     ]
    }
   ],
   "source": [
    "import numpy as np\n",
    "In [23]: import scipy.stats as stats\n",
    "In [24]: stats.kstest(np.random.normal(0,1,10000),'norm')\n",
    "Out[24]: (0.007038739782416259, 0.70477679457831155)"
   ]
  },
  {
   "cell_type": "code",
   "execution_count": null,
   "metadata": {},
   "outputs": [],
   "source": []
  }
 ],
 "metadata": {
  "kernelspec": {
   "display_name": "Python 3.8.5 64-bit",
   "language": "python",
   "name": "python_defaultSpec_1600182400025"
  },
  "language_info": {
   "codemirror_mode": {
    "name": "ipython",
    "version": 3
   },
   "file_extension": ".py",
   "mimetype": "text/x-python",
   "name": "python",
   "nbconvert_exporter": "python",
   "pygments_lexer": "ipython3",
   "version": "3.8.5-final"
  }
 },
 "nbformat": 4,
 "nbformat_minor": 4
}