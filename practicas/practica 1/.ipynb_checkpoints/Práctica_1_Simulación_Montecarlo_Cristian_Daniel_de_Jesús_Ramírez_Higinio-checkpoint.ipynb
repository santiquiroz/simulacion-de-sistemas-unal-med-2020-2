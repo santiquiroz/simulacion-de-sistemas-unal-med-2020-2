{
 "cells": [
  {
   "cell_type": "markdown",
   "metadata": {
    "colab_type": "text",
    "id": "NHZL4CWtuv_T"
   },
   "source": [
    "Cristian Daniel de Jesús Ramírez Higinio. 1040048419. Grupo 1"
   ]
  },
  {
   "cell_type": "markdown",
   "metadata": {
    "colab_type": "text",
    "id": "AQrNU7g85vcF"
   },
   "source": [
    "**SIMULACIÓN DE SISTEMAS - 3007331**\n",
    "\n",
    "PRÁCTICA # 1 - SIMULACIÓN DE MONTE CARLO\n",
    "\n",
    "Objetivo:\n",
    "\n",
    "Mostrar, mediante un problema sencillo, la naturaleza experimental de la simulación. Se ilustrará mediante un juego de lanzamiento de monedas, en qué forma se realiza una simulación, ejecutando los mismos pasos que se realizarían en un juego real.\n",
    "\n",
    "Problema de lanzamiento de moneda\n",
    "\n",
    "Le proponen lanzar una moneda (no cargada) y debe contar el número de caras y sellos que va obteniendo. El juego se termina sólo cuando la diferencia entre caras y sellos sea tres, no interesa cual sea mayor. En ese instante usted recibe 8 por el juego, pero tiene que pagar 1 por cada lanzamiento de la moneda que usted haya hecho.\n",
    "\n",
    "Actividad propuesta y entregable \n",
    "\n",
    "Analizar mediante simulación, si es conveniente o no participar en este juego. Y, debe adjuntar los documentos de respaldo para el análisis realizado."
   ]
  },
  {
   "cell_type": "markdown",
   "metadata": {
    "colab_type": "text",
    "id": "zjviMHNL6aVD"
   },
   "source": [
    "#Desarrollo de la práctica"
   ]
  },
  {
   "cell_type": "markdown",
   "metadata": {
    "colab_type": "text",
    "id": "d4UrNmgc6dwd"
   },
   "source": [
    "## Implementación de la función _tirar()_\n",
    "\n",
    "Con una probabiliad de 50% para sellos y caras, se tira una moneda simulada, la función tirar calcula la diferencia entre el número de caras y monedas que han salido durante la ejecución del programa y el costo de las monedas tiradas en cada juego realizado."
   ]
  },
  {
   "cell_type": "code",
   "execution_count": 1,
   "metadata": {
    "colab": {},
    "colab_type": "code",
    "id": "F1pBvpmoyCYC"
   },
   "outputs": [],
   "source": [
    "def tirar():\n",
    "  moneda = random.randint(0,1)\n",
    "  global sellos\n",
    "  global caras\n",
    "  global diferencia\n",
    "  global costo\n",
    "\n",
    "  if moneda == 0:\n",
    "    caras += 1\n",
    "  if moneda == 1:\n",
    "    sellos += 1\n",
    "\n",
    "  diferencia = abs(caras - sellos)\n",
    "\n",
    "  costo += 1\n",
    "\n",
    "  return moneda"
   ]
  },
  {
   "cell_type": "markdown",
   "metadata": {
    "colab_type": "text",
    "id": "iSkCsV-n64lO"
   },
   "source": [
    "## Función _jugar()_\n",
    "\n",
    "La función _jugar()_ juega el juego una vez: lanza monedas hasta que la diferencia entre caras y sellos sea 3. En caso de que el _continuar_a_perdida_ esté **desactivado**, el juego se detendrá en cuanto el costo de los lanzamientos supere el premio que se ganaría se se ganara el juego; normalmente el parámetro está **activado**.\n",
    "\n",
    "Cuando el juego termina, la función registra si el juego dejó ganancia o pérdida."
   ]
  },
  {
   "cell_type": "code",
   "execution_count": 2,
   "metadata": {
    "colab": {},
    "colab_type": "code",
    "id": "9hwB9s3i8CJY"
   },
   "outputs": [],
   "source": [
    "def jugar(premio, dif_needed, continuar_a_perdida = False):\n",
    "\n",
    "  global diferencia\n",
    "  global ganados\n",
    "  global perdidos\n",
    "  global costo\n",
    "  global ganancia_neta\n",
    "\n",
    "  while (costo <= premio or continuar_a_perdida):\n",
    "    tirar()\n",
    "    if diferencia == dif_needed:\n",
    "      break\n",
    "  if costo <= premio:\n",
    "    ganados += 1\n",
    "  else:\n",
    "    perdidos += 1\n",
    "  ganancia_neta = ganancia_neta + premio - costo\n",
    "  costo = 0\n",
    "  \n",
    "  \n"
   ]
  },
  {
   "cell_type": "markdown",
   "metadata": {
    "colab_type": "text",
    "id": "yUJc4zvp-rDK"
   },
   "source": [
    "## Programa principal\n",
    "\n",
    "El programa principal juega el juego mil veces e imprime la cantidad de juegos en los que no hubo pérdida después de jugarlo y la cantidad de veces en las que hubo pérdida después de jugarlo.\n",
    "\n",
    "Existen parámetros para el análisis de sensibilidad de la simulación\n",
    "\n",
    "- El parámetro _dif_needed_ representa la diferencia entre caras y sellos necesaria para termiar el juego\n",
    "\n",
    "- El parámetro _premio_ representa la cantidad obtenida al conseguir una diferencia entre caras y sellos igual a _diff_needed_\n",
    "\n",
    "Se usa random.seed(0) para que el generador de números aleatorios genere los mismos números en la revisión de la monitora"
   ]
  },
  {
   "cell_type": "code",
   "execution_count": 3,
   "metadata": {
    "colab": {},
    "colab_type": "code",
    "id": "kW20rrWNuPQE"
   },
   "outputs": [
    {
     "name": "stdout",
     "output_type": "stream",
     "text": [
      "De mil intentos, NO hubo pérdida en:  757\n",
      "De mil intentos, hubo pérdida en:  243\n",
      "La ganancia promedio por juego fue:  -1255.809\n"
     ]
    }
   ],
   "source": [
    "import random\n",
    "\n",
    "dif_needed = 3\n",
    "\n",
    "premio = 8\n",
    "\n",
    "continuar_a_perdida = True\n",
    "\n",
    "#random.seed(0)\n",
    "\n",
    "caras = 0\n",
    "diferencia = 0\n",
    "sellos = 0\n",
    "costo = 0\n",
    "ganados = 0\n",
    "perdidos = 0\n",
    "ganancia_neta = 0\n",
    "simulaciones = 1000\n",
    "\n",
    "for i in range(0,simulaciones):\n",
    "  jugar(premio, dif_needed, continuar_a_perdida)\n",
    "\n",
    "prom = ganancia_neta / simulaciones\n",
    "print('De mil intentos, NO hubo pérdida en: ', ganados)\n",
    "print('De mil intentos, hubo pérdida en: ', perdidos)\n",
    "print('La ganancia promedio por juego fue: ', prom)"
   ]
  },
  {
   "cell_type": "markdown",
   "metadata": {
    "colab_type": "text",
    "id": "nK4Eo5HFBr-M"
   },
   "source": [
    "# Conclusión\n",
    "\n",
    "Con base en que los "
   ]
  }
 ],
 "metadata": {
  "colab": {
   "name": "Práctica 1 Simulación Montecarlo Cristian Daniel de Jesús Ramírez Higinio.ipynb",
   "provenance": []
  },
  "kernelspec": {
   "display_name": "Python 3",
   "language": "python",
   "name": "python3"
  },
  "language_info": {
   "codemirror_mode": {
    "name": "ipython",
    "version": 3
   },
   "file_extension": ".py",
   "mimetype": "text/x-python",
   "name": "python",
   "nbconvert_exporter": "python",
   "pygments_lexer": "ipython3",
   "version": "3.8.3"
  }
 },
 "nbformat": 4,
 "nbformat_minor": 1
}
