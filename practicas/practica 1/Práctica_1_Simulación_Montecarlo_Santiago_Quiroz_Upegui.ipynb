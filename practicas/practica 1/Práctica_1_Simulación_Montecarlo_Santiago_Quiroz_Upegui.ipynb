{
 "cells": [
  {
   "cell_type": "markdown",
   "metadata": {},
   "source": [
    "Santiago Quiroz Upegui cc: 1036678350. Grupo 1\n",
    "\n",
    "SIMULACIÓN DE SISTEMAS - 3007331\n",
    "\n",
    "PRÁCTICA # 1 - SIMULACIÓN DE MONTE CARLO\n",
    "\n",
    "SIMULACION DEL JUEGO DE LA MONEDA:\n",
    "Le proponen lanzar una moneda (no cargada) y debe contar el número de caras y sellos que va obteniendo. El juego se termina sólo cuando la diferencia entre caras y sellos sea tres, no interesa cual sea mayor. En ese instante usted recibe \\$8 por el juego, pero tiene que pagar \\$1 por cada lanzamiento de la moneda que usted haya hecho."
   ]
  },
  {
   "cell_type": "code",
   "execution_count": null,
   "metadata": {},
   "outputs": [],
   "source": [
    "import random\n",
    "import numpy as np\n",
    "from scipy.stats import t"
   ]
  },
  {
   "cell_type": "markdown",
   "metadata": {},
   "source": [
    "Definimos la funcion que representa las acciones del juego y que aroja como resultado un arreglo que contiene el dinero que obtiene o pierde el jugador, el numero de lanzamientos, numero de resultados en cara y numero de resultados en sello"
   ]
  },
  {
   "cell_type": "code",
   "execution_count": null,
   "metadata": {},
   "outputs": [],
   "source": [
    "def jugar():\n",
    "    resultado_dinero= 8\n",
    "    numero_lanzamientos = 0\n",
    "    numero_caras = 0\n",
    "    numero_sellos = 0\n",
    "    while True:\n",
    "        # paso 1: lanzar una moneda\n",
    "        lado = \"cara\"\n",
    "        x = random.uniform(0, 1)\n",
    "        numero_lanzamientos = numero_lanzamientos + 1\n",
    "        # paso 2: contar cuantos caras y sellos\n",
    "        if x > 0.5:\n",
    "            lado = \"sello\"\n",
    "        if lado == \"cara\":\n",
    "            numero_caras = numero_caras + 1\n",
    "        else:\n",
    "            numero_sellos = numero_sellos + 1\n",
    "        # paso 3: calcular la diferencia absoluta entre caras y sellos\n",
    "        \n",
    "        if abs(numero_caras-numero_sellos) == 3:\n",
    "            break\n",
    "    resultado_dinero = resultado_dinero - numero_lanzamientos\n",
    "    return [resultado_dinero, numero_lanzamientos, numero_caras, numero_sellos], resultado_dinero >= 0 "
   ]
  },
  {
   "cell_type": "markdown",
   "metadata": {},
   "source": [
    "Luego simulamos y obtenemos una muestra de 40 juegos"
   ]
  },
  {
   "cell_type": "code",
   "execution_count": null,
   "metadata": {},
   "outputs": [],
   "source": [
    "datos_simulacion = []\n",
    "numero_ganadores = 0\n",
    "numero_juegos = 40\n",
    "for i in range(0,numero_juegos):\n",
    "    resultado, gano = jugar()\n",
    "    datos_simulacion.append(resultado)\n",
    "    if gano:\n",
    "        numero_ganadores = numero_ganadores + 1"
   ]
  },
  {
   "cell_type": "markdown",
   "metadata": {},
   "source": [
    "Con un analisis descriptivo estimamos de la muestra la media de esta y \n",
    "podemos explorar si es una buena idea participar en el juego segun la muestra de datos que obtuvimos de la simulacion"
   ]
  },
  {
   "cell_type": "code",
   "execution_count": null,
   "metadata": {
    "tags": []
   },
   "outputs": [],
   "source": [
    "#datos_simulacion=[[5,32123],[5,243243],[5,3243242123],[5,3215252523],[5,1]]\n",
    "# paso 4: calcular estadisticas para tomar decision\n",
    "medias = np.mean(datos_simulacion,axis=0)\n",
    "media_pago = medias[0]\n",
    "print(\"el numero de ganadores fue: \", numero_ganadores,\" con respecto a el total de \", numero_juegos,\" jugadores\")\n",
    "if media_pago>0:\n",
    "    print(\"Es factible participar en el juego pues la media de la muestra en la simulacion gano algo dinero, la media perdio: \", media_pago)\n",
    "else:\n",
    "    print(\"no es factible participar en el juego pues la media de la muestra en la simulacion no gano dinero, la media gano: \", media_pago)"
   ]
  },
  {
   "cell_type": "markdown",
   "metadata": {},
   "source": [
    "Con el analisis exploratorio anterior se sospecha de que este juego no esta muy a favor del jugador, pues aunque hay una buena probabilidad de ganar, por lo general se terminaria ganando poco pero cuando se pierde se terminaria perdiendo mucho mas."
   ]
  },
  {
   "cell_type": "markdown",
   "metadata": {},
   "source": [
    "EXPERIMENTACION: \n",
    "Como el estimador para la media muestral que fue utilizado es un estimador insesgado y el numero de muestras n arrojadas por la simulación es muy grande, podemos aplicar el teorema central del limite, donde podemos aproximar a una distribución normal de las medias muestrales y podemos utilizar los siguientes conceptos de intervalos de confianza:\n"
   ]
  },
  {
   "cell_type": "code",
   "execution_count": null,
   "metadata": {},
   "outputs": [],
   "source": [
    "#Estimando estadisticos adicionales\n",
    "#desviacion estandar\n",
    "desviaciones = np.std(datos_simulacion,axis=0)\n",
    "desviacion_standart_pago = desviaciones[0]\n"
   ]
  },
  {
   "cell_type": "markdown",
   "metadata": {},
   "source": [
    "CALCULO DE UN INTERVALO DE CONFIANZA DEL 95% PARA LA MEDIA DE LOS PAGOS:\n",
    "para el calculo de este intervalo tomaremos un valor de α = 0.05 y los parametos estimados hasta el momento son:"
   ]
  },
  {
   "cell_type": "code",
   "execution_count": null,
   "metadata": {
    "tags": []
   },
   "outputs": [],
   "source": [
    "alfa=0.05\n",
    "print(\"media estimada: \",media_pago) \n",
    "print(\"desviacion estandar:\", desviacion_standart_pago)\n",
    "print(\"α: \", alfa)"
   ]
  },
  {
   "cell_type": "code",
   "execution_count": null,
   "metadata": {},
   "outputs": [],
   "source": [
    "#calculando el intervalo de confianza\n",
    "t_tabla= t.ppf(1-(alfa/2),(numero_juegos-1))\n",
    "derecha =media_pago+(t_tabla)*(desviacion_standart_pago/(numero_juegos**1/2))\n",
    "izquierda = media_pago-(t_tabla)*(desviacion_standart_pago/(numero_juegos**1/2))"
   ]
  },
  {
   "cell_type": "code",
   "execution_count": null,
   "metadata": {
    "tags": []
   },
   "outputs": [],
   "source": [
    "print(\"(\",izquierda,\",\",derecha,\")\")"
   ]
  }
 ],
 "metadata": {
  "kernelspec": {
   "display_name": "Python 3.8.5 64-bit",
   "language": "python",
   "name": "python_defaultSpec_1597293062021"
  },
  "language_info": {
   "codemirror_mode": {
    "name": "ipython",
    "version": 3
   },
   "file_extension": ".py",
   "mimetype": "text/x-python",
   "name": "python",
   "nbconvert_exporter": "python",
   "pygments_lexer": "ipython3",
   "version": "3.8.5-final"
  }
 },
 "nbformat": 4,
 "nbformat_minor": 4
}