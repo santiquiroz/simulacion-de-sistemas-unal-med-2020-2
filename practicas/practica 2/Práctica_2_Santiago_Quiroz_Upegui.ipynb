{
 "cells": [
  {
   "cell_type": "markdown",
   "metadata": {},
   "source": [
    "Santiago Quiroz Upegui cc: 1036678350. Grupo 1\n",
    "\n",
    "SIMULACIÓN DE SISTEMAS - 3007331\n",
    "\n",
    "PRÁCTICA # 2 -\n",
    "\n",
    "\n",
    "Problema de la reserva de un hotel:\n",
    "Un hotel tiene 100 habitaciones que alquila a  125 mil la noche. Existe un costo variable entre\n",
    "10.000 y $30.000 por habitación (aseo, artículos de baño, etc.) por cada noche que está ocupada.\n",
    "Por cada reservación aceptada, existe una probabilidad del 5%, que el cliente no llegue. Si el hotel\n",
    "se excede en las reservaciones, hay un costo de 200.000 para compensar a los clientes cuyas\n",
    "reservaciones no pueden garantizarse."
   ]
  },
  {
   "cell_type": "code",
   "execution_count": null,
   "metadata": {},
   "outputs": [],
   "source": [
    "import random\n",
    "import numpy as np\n",
    "from scipy.stats import t"
   ]
  },
  {
   "cell_type": "markdown",
   "metadata": {},
   "source": [
    "Definimos los datos iniciales del problema:"
   ]
  },
  {
   "cell_type": "code",
   "execution_count": null,
   "metadata": {},
   "outputs": [],
   "source": [
    "numeroHabitaciones = 100\n",
    "costoPorNoche = 125000\n",
    "rangoCostoVariablePorNoche = (10000,30000)\n",
    "probabilidadClienteNoLlegue=0.05\n",
    "#si el hotel excede reservaciones\n",
    "costoCompensacionReservacionesNoGarantizadas=200000"
   ]
  },
  {
   "cell_type": "markdown",
   "metadata": {},
   "source": [
    "PASOS:\n",
    "1. Definir que es temporada alta \n",
    "2. Definir un rango para las variables de decision (#reservas a realizar para maximizar su utilidad diaria) \n",
    "3. Simular 1000 veces la utilidad diaria del hotel con base en las variables de decision \n",
    "4. declarar variables necesarias, que es utilidad(utilidad por habitacion = ingreso alquiler costos variables.... utilidad diaria... costo de indemnizacion)\n",
    "5. Analizar si a raiz de una reserva el cliente llega o no ... (usar un numero aleatorio para poder asignar la probabilidad de que llegue o no)\n",
    "6 Si el cliente llega y se tienen las habitaciones ocupadas -> calcular el costo de indemnizacion\n",
    "7. si el cliente ocupo "
   ]
  },
  {
   "cell_type": "markdown",
   "metadata": {},
   "source": [
    "El problema es un problema de maximizacion de utilidades, por lo tanto tenemos que encontrar el numeroReservacionesOptimo que maximice estas utilidades"
   ]
  },
  {
   "cell_type": "markdown",
   "metadata": {},
   "source": [
    "definimos una funcion que arroja las utilidades en una noche, asumiendo que no pagan antes "
   ]
  },
  {
   "cell_type": "code",
   "execution_count": null,
   "metadata": {},
   "outputs": [],
   "source": [
    "def noche():\n",
    "\n",
    "    numeroHabitaciones = 100\n",
    "    costoPorNoche = 125000\n",
    "    rangoCostoVariablePorNoche = (10000,30000)\n",
    "    probabilidadClienteNoLlegue=0.05\n",
    "    costoCompensacionReservacionesNoGarantizadas=200000\n",
    "\n",
    "\n",
    "    numeroReservacionesOptimo=150\n",
    "\n",
    "\n",
    "    costoVariablePorNocheTotal=0\n",
    "    siLlegan=0\n",
    "    siLleganPeroNoHayHabitacion=0\n",
    "    for i in range(0, numeroReservaciones):\n",
    "        # calculando si el cliente llega a la final\n",
    "        x= random.uniform(0, 1)\n",
    "        if(x<=probabilidadClienteNoLlegue):\n",
    "            if(siLlegan<numeroReservacionesOptimo)\n",
    "                siLlegan= siLlegan + 1\n",
    "                # calculando costo variable\n",
    "                costoVariablePorNoche = random.uniform(rangoCostoVariablePorNoche[0],rangoCostoVariablePorNoche[1])\n",
    "                costoVariablePorNocheTotal =  costoVariablePorNocheTotal + costoVariablePorNoche\n",
    "            else:\n",
    "                siLleganPeroNoHayHabitacion = siLleganPeroNoHayHabitacion + 1\n",
    "    return (costoPorNoche*siLlegan + costoVariablePorNocheTotal - costoCompensacionReservacionesNoGarantizadas * siLleganPeroNoHayHabitacion)"
   ]
  },
  {
   "cell_type": "markdown",
   "metadata": {},
   "source": [
    "Simulamos 1000 noches"
   ]
  },
  {
   "cell_type": "code",
   "execution_count": null,
   "metadata": {},
   "outputs": [],
   "source": [
    "datosSimulacion = []\n",
    "numeroSimulaciones = 1000\n",
    "for i in range(0, numeroSimulaciones):\n",
    "    utilidadesNoche=noche()\n",
    "    datosSimulacion.append(utilidadesNoche)"
   ]
  },
  {
   "cell_type": "code",
   "execution_count": null,
   "metadata": {},
   "outputs": [],
   "source": [
    "procedemos con un analisis descriptivo de la simulacion sobre parametros como la media, el valor maximo y minimo de la utilidad"
   ]
  }
 ],
 "metadata": {
  "kernelspec": {
   "display_name": "Python 3.8.5 64-bit",
   "language": "python",
   "name": "python_defaultSpec_1597858560283"
  },
  "language_info": {
   "codemirror_mode": {
    "name": "ipython",
    "version": 3
   },
   "file_extension": ".py",
   "mimetype": "text/x-python",
   "name": "python",
   "nbconvert_exporter": "python",
   "pygments_lexer": "ipython3",
   "version": "3.8.5-final"
  }
 },
 "nbformat": 4,
 "nbformat_minor": 4
}