{
 "cells": [
  {
   "cell_type": "markdown",
   "metadata": {},
   "source": [
    "Santiago Quiroz Upegui cc: 1036678350. Grupo 1\n",
    "\n",
    "SIMULACIÓN DE SISTEMAS - 3007331\n",
    "\n",
    "PRÁCTICA # 4 \n",
    "\n"
   ]
  },
  {
   "cell_type": "code",
   "execution_count": 1,
   "metadata": {},
   "outputs": [],
   "source": [
    "import random\n",
    "import math\n",
    "import matplotlib.pyplot as plt\n",
    "import numpy as np\n",
    "from scipy.stats import t"
   ]
  },
  {
   "cell_type": "markdown",
   "metadata": {},
   "source": []
  },
  {
   "cell_type": "markdown",
   "metadata": {},
   "source": [
    "# problema 2: Almacen de repuestos Autotool\n",
    "\n",
    "El almacén de repuestos Autotool tiene la capacidad de atender un cliente a la vez. El\n",
    "\n",
    "administrador del almacén lo contrata a usted para analizar por medio de simulación la\n",
    "\n",
    "llegada de 50 clientes al almacén a partir de la siguiente información:\n",
    "\n",
    "• El tiempo entre llegadas de clientes se distribuye como una variable aleatoria con\n",
    "\n",
    "función de densidad de probabilidad f(x)=4x*x-10, 2≤x≤3.\n",
    "\n",
    " Simule este tiempo entre llegadas usando el método de aceptación- rechazo para generar variables aleatorias.\n",
    "\n",
    "• El tiempo de servicio en el almacén en minutos se distribuye de la siguiente manera:"
   ]
  },
  {
   "cell_type": "markdown",
   "metadata": {},
   "source": [
    "## encontrando el valor maximo de la fdp\n",
    "f'(x) = 8x\n",
    "\n",
    "si 8x = 0\n",
    "\n",
    "x = 0 ... pero x no pertenece al dominio dado 2≤x≤3\n",
    "\n",
    "evaluemos en los extremos del intervalo\n",
    "\n",
    "f(2) =  16 - 10 = 6,\n",
    "f(3) = 36 - 10 = 26\n",
    "\n",
    "el valor maximo M de la fdp es 26\n",
    "\n",
    "## segun el metodo de aceptacion -  rechazo: \n",
    "\n",
    "g(x) =  (f(x)/M) = ((4*x*x) - 10)/26 , con g(x) < 1\n",
    "\n",
    "### si genero 2 aleatorios (r1 , r2) y se cumple lo siguiente:\n",
    "\n",
    "sea x = a + (b - a)r1 = 2 + (3 - 1) r1\n",
    "\n",
    "si r2 <= g(x)\n",
    "\n",
    "### x es una variable aleatoria valida para usar en nuestra simulacion\n",
    "\n",
    "### asi que solo hay que repetir la generacion de aleatorios con hasta que se cumpla la condicion"
   ]
  },
  {
   "cell_type": "markdown",
   "metadata": {},
   "source": [
    "## Definimos una funcion para generar la variable aleatoria por medio de aceptacion - rechazo "
   ]
  },
  {
   "cell_type": "code",
   "execution_count": 2,
   "metadata": {},
   "outputs": [],
   "source": [
    "def genAleatorioAceptacionRechazo(f,M,a,b):\n",
    "    while True :\n",
    "        r1 = random.uniform(0, 1)\n",
    "        r2 = random.uniform(0, 1)\n",
    "        x = a + (b - a) * r1\n",
    "        g = (f(x)/M)\n",
    "        if r2 <= g:\n",
    "            return x \n"
   ]
  },
  {
   "cell_type": "code",
   "execution_count": 3,
   "metadata": {
    "tags": []
   },
   "outputs": [],
   "source": [
    "f = lambda x :  (4*(x**2))-10\n",
    "## print(genAleatorioAceptacionRechazo(f,26,2,3))"
   ]
  },
  {
   "cell_type": "markdown",
   "metadata": {},
   "source": [
    "## Definimos una funcion para generar la variable aleatoria para el tiempo de servicio del almacen segun los datos dados\n"
   ]
  },
  {
   "cell_type": "code",
   "execution_count": 4,
   "metadata": {},
   "outputs": [],
   "source": [
    "def genTiempoServicio():\n",
    "    r = random.uniform(0,1)\n",
    "    if 0 <= r <= 0.2:\n",
    "        return random.uniform(1,2)\n",
    "    elif 0.2 < r <= 0.55:\n",
    "        while True:\n",
    "            x = random.uniform(2,3)\n",
    "            if x > 2.0 :\n",
    "                return x\n",
    "    elif 0.55 < r <= 0.85:\n",
    "        while True:\n",
    "            x = random.uniform(3,4)\n",
    "            if x > 3.0 :\n",
    "                return x\n",
    "    elif 0.85 < r <= 1.0:\n",
    "        while True:\n",
    "            x = random.uniform(4,5)\n",
    "            if x > 4.0 :\n",
    "                return x\n"
   ]
  },
  {
   "cell_type": "markdown",
   "metadata": {},
   "source": [
    "## Ahora modelamos el problema de cola\n",
    "\n",
    "como el problema de cola tiene la misma estructura en los 2 casos, lo definire como una funcion para su uso futuro"
   ]
  },
  {
   "cell_type": "code",
   "execution_count": 5,
   "metadata": {},
   "outputs": [],
   "source": [
    "def problemaCola(genTiempoEntreLlegada,genTiempoServicio,n):\n",
    "    #definimos los datos de la simulacion:\n",
    "    #datosSimulacion matriz que contiene en cada fila [Tiempo entre llegadas, Tiempo de servicio Tiempo de llegada, Tiempo en fila, Tiempo de finalizacion del servicio, Tiempo total en el sistema]\n",
    "    datosSimulacion = []\n",
    "\n",
    "    # como el primero en llegar a la cola no tiene que esperar no tiene que esperar en la fila y el tiempo de llegada es el mismo al tiempo entre llegadas generado aleatoriamente\n",
    "    TiempoEntreLLegadas = genTiempoEntreLlegada()\n",
    "    TiempoServicio = genTiempoServicio()\n",
    "    TiempoLLegada = TiempoEntreLLegadas\n",
    "    TiempoEnFila = 0\n",
    "    TiempoFinalizacionServicio = TiempoLLegada + TiempoServicio + TiempoEnFila\n",
    "    TiempoTotalSistema = TiempoFinalizacionServicio - TiempoLLegada\n",
    "\n",
    "    datosSimulacion.append([TiempoEntreLLegadas, TiempoServicio, TiempoLLegada, TiempoEnFila, TiempoFinalizacionServicio, TiempoTotalSistema])\n",
    "\n",
    "    # con los otros restantes si es diferente\n",
    "    \n",
    "    for i in range(1,n):\n",
    "        TiempoLLegadaAnterior = datosSimulacion[i-1][2]\n",
    "        TiempoFinalizacionServicioAnterior = datosSimulacion[i-1][4]\n",
    "        TiempoEntreLLegadas = genTiempoEntreLlegada()\n",
    "        TiempoServicio = genTiempoServicio()\n",
    "        TiempoLLegada = TiempoEntreLLegadas + TiempoLLegadaAnterior\n",
    "        TiempoEnFila = 0\n",
    "        espera = TiempoLLegada - TiempoFinalizacionServicioAnterior\n",
    "        if espera <= 0:\n",
    "            TiempoEnFila = abs(espera)\n",
    "        TiempoFinalizacionServicio = TiempoLLegada + TiempoServicio + TiempoEnFila\n",
    "        TiempoTotalSistema = TiempoFinalizacionServicio - TiempoLLegada\n",
    "\n",
    "        datosSimulacion.append([TiempoEntreLLegadas, TiempoServicio, TiempoLLegada, TiempoEnFila, TiempoFinalizacionServicio, TiempoTotalSistema])\n",
    "\n",
    "    return datosSimulacion"
   ]
  },
  {
   "cell_type": "markdown",
   "metadata": {},
   "source": [
    "## Simulamos con 50 clientes"
   ]
  },
  {
   "cell_type": "code",
   "execution_count": 6,
   "metadata": {},
   "outputs": [],
   "source": [
    "n=50\n",
    "def genTiempoEntreLlegada():\n",
    "     return genAleatorioAceptacionRechazo(f,26,2,3)\n",
    "datosSimulacion = problemaCola(genTiempoEntreLlegada,genTiempoServicio,n)"
   ]
  },
  {
   "cell_type": "markdown",
   "metadata": {},
   "source": [
    "## definimos una funcion para calcular un intervalo de confianza para una media poblacional"
   ]
  },
  {
   "cell_type": "code",
   "execution_count": 7,
   "metadata": {},
   "outputs": [],
   "source": [
    "#funcion que calcula los estimadores necesarios para el intervalo de confianza de la media y retorna una tupla (media, desviacion)\n",
    "def calcularEstimadores(datos):\n",
    "    media = np.mean(datos,axis=0)\n",
    "    desviacionEstandar = np.std(datos,axis=0)\n",
    "    return (media, desviacionEstandar)\n",
    "\n",
    "def calcularIntervaloConfianzaMedia(media, desviacionEstandar, numeroSimulaciones):\n",
    "    #calculando el intervalo de confianza\n",
    "    t_tabla= t.ppf(1-(alfa/2),(numeroSimulaciones-1))\n",
    "    print(\"valor t con grados de libertad α/2 y n-1 \", t_tabla)\n",
    "    derecha =media+(t_tabla)*(desviacionEstandar/(numeroSimulaciones**1/2))\n",
    "    izquierda = media-(t_tabla)*(desviacionEstandar/(numeroSimulaciones**1/2))\n",
    "    return (izquierda,derecha)"
   ]
  },
  {
   "cell_type": "markdown",
   "metadata": {},
   "source": [
    "## calculamos los estimadores para los datos"
   ]
  },
  {
   "cell_type": "code",
   "execution_count": 8,
   "metadata": {},
   "outputs": [],
   "source": [
    "medias , desviaciones = calcularEstimadores(datosSimulacion) "
   ]
  },
  {
   "cell_type": "code",
   "execution_count": 9,
   "metadata": {},
   "outputs": [],
   "source": [
    "alfa = 0.05"
   ]
  },
  {
   "cell_type": "markdown",
   "metadata": {},
   "source": [
    "## a. el tiempo promedio en el sistema de los clientes. "
   ]
  },
  {
   "cell_type": "code",
   "execution_count": 10,
   "metadata": {},
   "outputs": [
    {
     "name": "stdout",
     "output_type": "stream",
     "text": [
      "El tiempo promedio en el sistema de la muestra fue de:  11.89357397153733\n"
     ]
    },
    {
     "ename": "NameError",
     "evalue": "name 'n' is not defined",
     "output_type": "error",
     "traceback": [
      "\u001b[1;31m---------------------------------------------------------------------------\u001b[0m",
      "\u001b[1;31mNameError\u001b[0m                                 Traceback (most recent call last)",
      "\u001b[1;32m<ipython-input-10-753a318f8d05>\u001b[0m in \u001b[0;36m<module>\u001b[1;34m\u001b[0m\n\u001b[0;32m      2\u001b[0m \u001b[1;33m\u001b[0m\u001b[0m\n\u001b[0;32m      3\u001b[0m \u001b[1;31m# calculamos el intervalo de confianza para este\u001b[0m\u001b[1;33m\u001b[0m\u001b[1;33m\u001b[0m\u001b[1;33m\u001b[0m\u001b[0m\n\u001b[1;32m----> 4\u001b[1;33m \u001b[0mintervaloMediaTiempoTotalSistema\u001b[0m \u001b[1;33m=\u001b[0m \u001b[0mcalcularIntervaloConfianzaMedia\u001b[0m\u001b[1;33m(\u001b[0m\u001b[0mmedias\u001b[0m\u001b[1;33m[\u001b[0m\u001b[1;36m5\u001b[0m\u001b[1;33m]\u001b[0m\u001b[1;33m,\u001b[0m \u001b[0mdesviaciones\u001b[0m\u001b[1;33m[\u001b[0m\u001b[1;36m5\u001b[0m\u001b[1;33m]\u001b[0m\u001b[1;33m,\u001b[0m \u001b[0mn\u001b[0m\u001b[1;33m)\u001b[0m\u001b[1;33m\u001b[0m\u001b[1;33m\u001b[0m\u001b[0m\n\u001b[0m\u001b[0;32m      5\u001b[0m \u001b[1;33m\u001b[0m\u001b[0m\n\u001b[0;32m      6\u001b[0m \u001b[0mprint\u001b[0m\u001b[1;33m(\u001b[0m\u001b[1;34m\"Un intervalo con un 95 por ciento de confianza para la media poblacional del tiempo promedio que pasa un cliente en el sistema es: \"\u001b[0m\u001b[1;33m)\u001b[0m\u001b[1;33m\u001b[0m\u001b[1;33m\u001b[0m\u001b[0m\n",
      "\u001b[1;31mNameError\u001b[0m: name 'n' is not defined"
     ]
    }
   ],
   "source": [
    "print(\"El tiempo promedio en el sistema de la muestra fue de: \", medias[5] )\n",
    "\n",
    "# calculamos el intervalo de confianza para este\n",
    "intervaloMediaTiempoTotalSistema = calcularIntervaloConfianzaMedia(medias[5], desviaciones[5], n)\n",
    "\n",
    "print(\"Un intervalo con un 95 por ciento de confianza para la media poblacional del tiempo promedio que pasa un cliente en el sistema es: \")\n",
    "print(intervaloMediaTiempoTotalSistema)"
   ]
  },
  {
   "cell_type": "markdown",
   "metadata": {},
   "source": [
    "## b. el tiempo promedio en la taquilla de los usuarios. "
   ]
  },
  {
   "cell_type": "code",
   "execution_count": null,
   "metadata": {},
   "outputs": [],
   "source": [
    "print(\"El tiempo promedio en la taquilla de la muestra fue de: \", medias[1] )\n",
    "\n",
    "# calculamos el intervalo de confianza para este\n",
    "intervaloMediaTiempoServicio = calcularIntervaloConfianzaMedia(medias[1], desviaciones[1], n)\n",
    "\n",
    "print(\"Un intervalo con un 95 por ciento de confianza para la media poblacional del tiempo promedio que pasa un cliente en el servicio de taquilla es: \")\n",
    "print(intervaloMediaTiempoServicio)"
   ]
  },
  {
   "cell_type": "markdown",
   "metadata": {},
   "source": [
    "## c. el tiempo promedio de espera de los usuarios. "
   ]
  },
  {
   "cell_type": "code",
   "execution_count": null,
   "metadata": {},
   "outputs": [],
   "source": [
    "print(\"El tiempo promedio de espera de clientes de la muestra fue de: \", medias[3] )\n",
    "\n",
    "# calculamos el intervalo de confianza para este\n",
    "intervaloMediaTiempoEnFila = calcularIntervaloConfianzaMedia(medias[3], desviaciones[3], n)\n",
    "\n",
    "print(\"Un intervalo con un 95 por ciento de confianza para la media poblacional del tiempo promedio que pasa un cliente en espera en la fila es: \")\n",
    "print(intervaloMediaTiempoEnFila)"
   ]
  },
  {
   "cell_type": "code",
   "execution_count": null,
   "metadata": {},
   "outputs": [],
   "source": [
    "## d. un histograma del tiempo de espera de los usuarios. Analícelo. \n",
    "\n",
    "calculando el numero k de intervalos(clases):\n",
    "k=roundup(log2(n)+1)"
   ]
  },
  {
   "cell_type": "code",
   "execution_count": null,
   "metadata": {},
   "outputs": [],
   "source": [
    "k = math.ceil(math.log2(n) + 1)\n",
    "\n",
    "tiemposEnFilaClientes = []\n",
    "\n",
    "for i in range (0,len(datosSimulacion)) :\n",
    "    tiemposEnFilaClientes.append(datosSimulacion[i][3])\n",
    "\n",
    "print(\"este es el k de las clases \", k)\n",
    "plt.title('Tiempos de espera de los usuarios')\n",
    "plt.hist(tiemposEnFilaClientes, bins=k, edgecolor = 'black',  linewidth=1)\n",
    "plt.grid(True)\n",
    "plt.show()\n",
    "plt.clf()"
   ]
  }
 ],
 "metadata": {
  "kernelspec": {
   "display_name": "Python 3",
   "language": "python",
   "name": "python3"
  },
  "language_info": {
   "codemirror_mode": {
    "name": "ipython",
    "version": 3
   },
   "file_extension": ".py",
   "mimetype": "text/x-python",
   "name": "python",
   "nbconvert_exporter": "python",
   "pygments_lexer": "ipython3",
   "version": "3.8.3"
  }
 },
 "nbformat": 4,
 "nbformat_minor": 4
}
