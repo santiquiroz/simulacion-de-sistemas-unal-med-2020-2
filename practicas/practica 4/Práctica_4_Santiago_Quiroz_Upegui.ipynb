{
 "cells": [
  {
   "cell_type": "markdown",
   "metadata": {},
   "source": [
    "Santiago Quiroz Upegui cc: 1036678350. Grupo 1\n",
    "\n",
    "SIMULACIÓN DE SISTEMAS - 3007331\n",
    "\n",
    "PRÁCTICA # 4 -\n",
    "\n",
    "Problema 1. Banco Unal\n",
    "\n",
    "El Banco Unal lo ha contactado a usted para analizar la cola de la única taquilla de la\n",
    "\n",
    "sucursal ubicada en la Universidad Nacional de Colombia Sede Medellín que tienen, por\n",
    "\n",
    "medio de la simulación de la llegada de 100 usuarios. Para ello, le otorga la siguiente\n",
    "\n",
    "información:\n",
    "\n",
    "• El tiempo entre llegadas de los usuarios es una variable aleatoria que se distribuye\n",
    "\n",
    "exponencial con parámetro lambda (𝜆) igual a 1,5.\n",
    "\n",
    "• El tiempo de servicio es una variable aleatoria que se distribuye normal con media\n",
    "\n",
    "(𝜇) 2 minutos y desviación estándar (𝜎) de 1 minutos.\n",
    "\n",
    "El análisis de esta cola debe contener según las condiciones del contrato con el Metro de\n",
    "\n",
    "Medellín:\n",
    "\n",
    "a. el tiempo promedio en el sistema de los clientes.\n",
    "\n",
    "b. el tiempo promedio en la taquilla de los usuarios.\n",
    "\n",
    "c. el tiempo promedio de espera de los usuarios.\n",
    "\n",
    "d. un histograma del tiempo de espera de los usuarios. Analícelo. \n",
    "\n",
    "\n",
    "\n"
   ]
  },
  {
   "cell_type": "code",
   "execution_count": null,
   "metadata": {},
   "outputs": [],
   "source": [
    "import random\n",
    "import math\n",
    "import matplotlib.pyplot as plt\n",
    "import numpy as np\n",
    "from scipy.stats import t"
   ]
  },
  {
   "cell_type": "markdown",
   "metadata": {},
   "source": [
    "\"La variable aleatoria es el tiempo de llegada entre clientes\"\n",
    "\n",
    "hay que generar 100 tiempos entre llegada\n",
    "\n",
    "cual de los metodos para generar variables aleatorias sera el mejor para este problema?\n",
    "\n",
    "R/ transformacion inversa\n",
    "\n",
    "\"siempre que se vea una normal utilice el box mewller\"\n",
    "\n",
    "\"el primer cliente llega a la hora 0\"\n",
    "\n",
    "\"tiempo de servicio\" \n",
    "\n",
    "\"el primer cliente tiene un tiempo de espera 0\"\n",
    "\n",
    "\"se tiene una hora de salida =  hora de llegada + tiempo de espera + tiempo de servicio\"\n",
    "\n",
    "Tiempo sistema = hora salida - hora de LLegada\n",
    "\n",
    "                TiempoServicio + tiempo en fila\n",
    "\n"
   ]
  },
  {
   "cell_type": "markdown",
   "metadata": {},
   "source": [
    "HoraLLegada = HoraLLegada[i-1]+ TiempoEntreLLegada[i-1]\n",
    "\n",
    "TiempoEnFila = si (horaLLegada[i] - HoraSalidaDel sistema[i-1]) > 0 entonces el TiempoEnFila[i] = 0\n",
    "\n",
    "                sino (si espera entonces TiempoEnFila[i]= abs(horaLLegada[i]-HoraSalida[i-1]))"
   ]
  },
  {
   "cell_type": "markdown",
   "metadata": {},
   "source": [
    "transformada inversa"
   ]
  },
  {
   "cell_type": "markdown",
   "metadata": {},
   "source": [
    "## Definimos las funciones para generar los tiempos:"
   ]
  },
  {
   "cell_type": "code",
   "execution_count": null,
   "metadata": {},
   "outputs": [],
   "source": [
    "def genTiempoEntreLlegada () {\n",
    "    lambdaValue = 1.5\n",
    "    r = random.uniform(0, 1)\n",
    "    x1 = (-1/ lambdaValue) * math.log(1-r) \n",
    "    return x1\n",
    "}\n",
    "\n",
    "def genTiempoServicio () {\n",
    "\n",
    "    media = 2\n",
    "    desviacionEstandar = 1\n",
    "    r = random.gauss(2,1)\n",
    "    return r\n",
    "}"
   ]
  },
  {
   "cell_type": "markdown",
   "metadata": {},
   "source": [
    "### Simulamos 100 llegadas de clientes calculando "
   ]
  },
  {
   "cell_type": "code",
   "execution_count": null,
   "metadata": {},
   "outputs": [],
   "source": [
    "#definimos los datos de la simulacion:\n",
    "#datosSimulacion matriz que contiene en cada fila [Tiempo entre llegadas, Tiempo de servicio Tiempo de llegada, Tiempo en fila, Tiempo de finalizacion del servicio, Tiempo total en el sistema]\n",
    "datosSimulacion = []\n",
    "\n",
    "# como el primero en llegar a la cola no tiene que esperar no tiene que esperar en la fila y el tiempo de llegada es el mismo al tiempo entre llegadas generado aleatoriamente\n",
    "TiempoEntreLLegadas = genTiempoEntreLlegada()\n",
    "TiempoServicio = genTiempoServicio()\n",
    "TiempoLLegada = TiempoEntreLLegadas\n",
    "TiempoEnFila = 0\n",
    "TiempoFinalizacionServicio = TiempoLLegada + TiempoServicio + TiempoEnFila\n",
    "TiempoTotalSistema = TiempoFinalizacionServicio - TiempoLLegada\n",
    "\n",
    "datosSimulacion.append([TiempoEntreLLegadas, TiempoServicio, TiempoLLegada, TiempoEnFila, TiempoFinalizacionServicio, TiempoTotalSistema])\n",
    "\n",
    "# con los otros restantes si es diferente\n",
    "for i in range(1,100):\n",
    "    TiempoLLegadaAnterior = datosSimulacion[i-1[2]\n",
    "    TiempoFinalizacionServicioAnterior = datosSimulacion[i-1][4]\n",
    "\n",
    "    TiempoEntreLLegadas = genTiempoEntreLlegada()\n",
    "    TiempoServicio = genTiempoServicio()\n",
    "    TiempoLLegada = TiempoEntreLLegadas + TiempoLLegadaAnterior\n",
    "    TiempoEnFila = 0\n",
    "    espera = TiempoLLegada - TiempoFinalizacionServicioAnterior\n",
    "    if espera <= 0:\n",
    "        TiempoEnFila = abs(espera)\n",
    "    TiempoFinalizacionServicio = TiempoLLegada + TiempoServicio + TiempoEnFila\n",
    "    TiempoTotalSistema = TiempoFinalizacionServicio - TiempoLLegada\n",
    "\n",
    "    datosSimulacion.append([TiempoEntreLLegadas, TiempoServicio, TiempoLLegada, TiempoEnFila, TiempoFinalizacionServicio, TiempoTotalSistema])\n"
   ]
  }
 ],
 "metadata": {
  "kernelspec": {
   "display_name": "Python 3",
   "language": "python",
   "name": "python3"
  },
  "language_info": {
   "codemirror_mode": {
    "name": "ipython",
    "version": 3
   },
   "file_extension": ".py",
   "mimetype": "text/x-python",
   "name": "python",
   "nbconvert_exporter": "python",
   "pygments_lexer": "ipython3",
   "version": "3.8.3"
  }
 },
 "nbformat": 4,
 "nbformat_minor": 4
}