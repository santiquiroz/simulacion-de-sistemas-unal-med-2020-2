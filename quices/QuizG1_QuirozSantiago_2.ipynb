{
 "cells": [
  {
   "cell_type": "markdown",
   "metadata": {},
   "source": [
    "Santiago Quiroz Upegui cc: 1036678350. Grupo 1\n",
    "\n",
    "SIMULACIÓN DE SISTEMAS - 3007331\n",
    "\n",
    "Quiz 1\n",
    "\n"
   ]
  },
  {
   "cell_type": "code",
   "execution_count": 1,
   "metadata": {},
   "outputs": [],
   "source": [
    "import random\n",
    "import math\n",
    "import matplotlib.pyplot as plt\n",
    "import numpy as np\n",
    "from scipy.stats import t"
   ]
  },
  {
   "cell_type": "markdown",
   "metadata": {},
   "source": []
  },
  {
   "cell_type": "markdown",
   "metadata": {},
   "source": [
    "# Tema B:\n",
    "\n",
    "cancelaciones de reunioniones por baja asistencia"
   ]
  },
  {
   "cell_type": "markdown",
   "metadata": {},
   "source": [
    "## Definimos una funcion para generar una variable aleatoria de las reservaciones por medio de la fda"
   ]
  },
  {
   "cell_type": "code",
   "execution_count": 2,
   "metadata": {},
   "outputs": [],
   "source": [
    "def genReservaciones():\n",
    "    r = random.uniform(0,1)\n",
    "    if 0 <= r <= 0.02:\n",
    "        return 0\n",
    "    elif 0.02 < r <= 0.07:\n",
    "        return 1\n",
    "    elif 0.07 < r <= 0.15:\n",
    "        return 2\n",
    "    elif 0.15 < r <= 0.31:\n",
    "        return 3\n",
    "    elif 0.31 < r <= 0.57:\n",
    "        return 4\n",
    "    elif 0.57 < r <= 0.75:\n",
    "        return 5\n",
    "    elif 0.75 < r <= 0.86:\n",
    "        return 6\n",
    "    elif 0.86 < r <= 0.93:\n",
    "        return 7\n",
    "    elif 0.93 < r <= 0.98:\n",
    "        return 8\n",
    "    elif 0.98 < r <= 0.99:\n",
    "        return 9\n",
    "    else:\n",
    "        return 10"
   ]
  },
  {
   "cell_type": "markdown",
   "metadata": {},
   "source": [
    "## definimos una funcion para saber si el asistente se opera o no\n",
    "aunque a la final no se utilizara por que ya se estimo que el 25% de los asistentes de la reunion se opera"
   ]
  },
  {
   "cell_type": "code",
   "execution_count": 3,
   "metadata": {},
   "outputs": [],
   "source": [
    "def genSeOpera(probabilidad):\n",
    "    r = random.uniform(0,1)\n",
    "    if 0 <= r <= probabilidad:\n",
    "        return True\n",
    "    else:\n",
    "        return False"
   ]
  },
  {
   "cell_type": "markdown",
   "metadata": {},
   "source": [
    "## Definimos el modelo de simulacion\n"
   ]
  },
  {
   "cell_type": "code",
   "execution_count": 4,
   "metadata": {},
   "outputs": [],
   "source": [
    "def simular(n, cancelarReuniones, minimoReservaciones, probabilidadExito, precioOperacion):\n",
    "    datosSimulacion = []\n",
    "    for i in range (0,n):\n",
    "        reservaciones = genReservaciones()\n",
    "        #print(\"semana: \",i, \"reservaciones: \",reservaciones)\n",
    "        \"\"\" exitos = 0\n",
    "        for j in range (0,reservaciones):\n",
    "            exito = genSeOpera(probabilidadExito)\n",
    "            if exito:\n",
    "                exitos = exitos + 1\n",
    "        ingresos = precioOperacion*exitos \"\"\"\n",
    "\n",
    "        exitos = reservaciones * probabilidadExito\n",
    "        ingresos = precioOperacion*exitos\n",
    "        if cancelarReuniones :\n",
    "            if reservaciones <= minimoReservaciones :\n",
    "                #print(\"se cancela la reunion\")\n",
    "                ingresos = 0\n",
    "\n",
    "\n",
    "        datosSimulacion.append(ingresos)\n",
    "    return datosSimulacion"
   ]
  },
  {
   "cell_type": "markdown",
   "metadata": {},
   "source": [
    "## definimos una funcion para calcular un intervalo de confianza para una media poblacional y a la vez obtener los estadisticos necesarios para este"
   ]
  },
  {
   "cell_type": "code",
   "execution_count": 5,
   "metadata": {},
   "outputs": [],
   "source": [
    "#funcion que calcula los estimadores necesarios para el intervalo de confianza de la media y retorna una tupla (media, desviacion)\n",
    "def calcularEstimadores(datos):\n",
    "    media = np.mean(datos)\n",
    "    desviacionEstandar = np.std(datos)\n",
    "    return (media, desviacionEstandar)\n",
    "\n",
    "def calcularIntervaloConfianzaMedia(media, desviacionEstandar, numeroSimulaciones, alfa):\n",
    "    #calculando el intervalo de confianza\n",
    "    t_tabla= t.ppf(1-(alfa/2),(numeroSimulaciones-1))\n",
    "    print(\"valor t con grados de libertad α/2 y n-1 \", t_tabla)\n",
    "    derecha =media+(t_tabla)*(desviacionEstandar/(numeroSimulaciones**1/2))\n",
    "    izquierda = media-(t_tabla)*(desviacionEstandar/(numeroSimulaciones**1/2))\n",
    "    return (izquierda,derecha)"
   ]
  },
  {
   "cell_type": "code",
   "execution_count": 6,
   "metadata": {},
   "outputs": [],
   "source": [
    "alfa = 0.05\n",
    "n = 1000"
   ]
  },
  {
   "cell_type": "markdown",
   "metadata": {},
   "source": [
    "### 1. En promedio, ¿cuánto espera obtener semanalmente la doctora Sara por la práctica de este procedimiento?\n",
    "teniendo en cuenta que el precio de la operacion es 2000, la probabilidad de exito es del 0.25 y si hay 2 o menos reservaciones se cancela la reunion semanal"
   ]
  },
  {
   "cell_type": "code",
   "execution_count": 7,
   "metadata": {
    "tags": []
   },
   "outputs": [
    {
     "output_type": "stream",
     "name": "stdout",
     "text": "La media de las ganancias semanales cancelando reuniones es:  2081.0\n"
    }
   ],
   "source": [
    "cancelarReuniones = True\n",
    "minimoReservaciones = 2\n",
    "probabilidadExito = 0.25\n",
    "precioOperacion = 2000\n",
    "datosSimulacion = simular(n, cancelarReuniones, minimoReservaciones, probabilidadExito, precioOperacion)\n",
    "media, desviacionEstandar = calcularEstimadores(datosSimulacion)\n",
    "print(\"La media de las ganancias semanales cancelando reuniones es: \",media)"
   ]
  },
  {
   "cell_type": "markdown",
   "metadata": {},
   "source": [
    "## 2. Calcule un intervalo de confianza (confianza del 95%) para el ingreso promedio semanal que espera obtener la doctora Sara al realizar este procedimiento. "
   ]
  },
  {
   "cell_type": "code",
   "execution_count": 8,
   "metadata": {
    "tags": []
   },
   "outputs": [
    {
     "output_type": "stream",
     "name": "stdout",
     "text": "valor t con grados de libertad α/2 y n-1  1.9623414611334487\nUn intervalo con un 95 por ciento de confianza para la media poblacional del ingreso de sara es:  (2076.5226970210633, 2085.4773029789367)\n"
    }
   ],
   "source": [
    "intervaloMediaIngresos = calcularIntervaloConfianzaMedia(media, desviacionEstandar, n, alfa)\n",
    "print(\"Un intervalo con un 95 por ciento de confianza para la media poblacional del ingreso de sara es: \", intervaloMediaIngresos)"
   ]
  },
  {
   "cell_type": "markdown",
   "metadata": {},
   "source": [
    "## 3. En promedio, ¿qué ingreso obtendría por la cirugía si no cancelara las reuniones informativas? "
   ]
  },
  {
   "cell_type": "code",
   "execution_count": 9,
   "metadata": {
    "tags": []
   },
   "outputs": [
    {
     "output_type": "stream",
     "name": "stdout",
     "text": "La media de las ganancias semanales sin cancelar reuniones es:  2203.5\nvalor t con grados de libertad α/2 y n-1  1.9623414611334487\nUn intervalo con un 95 por ciento de confianza para la media poblacional del ingreso de sara es:  (2199.6140926762564, 2207.3859073237436)\n"
    }
   ],
   "source": [
    "cancelarReuniones = False\n",
    "datosSimulacion = simular(n, cancelarReuniones, minimoReservaciones, probabilidadExito, precioOperacion)\n",
    "media, desviacionEstandar = calcularEstimadores(datosSimulacion)\n",
    "print(\"La media de las ganancias semanales sin cancelar reuniones es: \",media)\n",
    "intervaloMediaIngresos = calcularIntervaloConfianzaMedia(media, desviacionEstandar, n, alfa)\n",
    "print(\"Un intervalo con un 95 por ciento de confianza para la media poblacional del ingreso de sara es: \", intervaloMediaIngresos)"
   ]
  },
  {
   "cell_type": "markdown",
   "metadata": {},
   "source": [
    "## 4. La doctora Sara cree que un 40% de los que asisten a las sesiones informativas se harían la cirugía si ella redujera los honorarios a $1,500"
   ]
  },
  {
   "cell_type": "code",
   "execution_count": 10,
   "metadata": {
    "tags": []
   },
   "outputs": [
    {
     "output_type": "stream",
     "name": "stdout",
     "text": "La media de las ganancias semanales cancelando reuniones es:  2505.0\nvalor t con grados de libertad α/2 y n-1  1.9623414611334487\nUn intervalo con un 95 por ciento de confianza para la media poblacional del ingreso de sara es:  (2499.645525588666, 2510.354474411334)\n"
    }
   ],
   "source": [
    "cancelarReuniones = True\n",
    "probabilidadExito = 0.40\n",
    "precioOperacion = 1500\n",
    "datosSimulacion = simular(n, cancelarReuniones, minimoReservaciones, probabilidadExito, precioOperacion)\n",
    "media, desviacionEstandar = calcularEstimadores(datosSimulacion)\n",
    "print(\"La media de las ganancias semanales cancelando reuniones es: \",media)\n",
    "intervaloMediaIngresos = calcularIntervaloConfianzaMedia(media, desviacionEstandar, n, alfa)\n",
    "print(\"Un intervalo con un 95 por ciento de confianza para la media poblacional del ingreso de sara es: \", intervaloMediaIngresos)"
   ]
  },
  {
   "cell_type": "code",
   "execution_count": 11,
   "metadata": {
    "tags": []
   },
   "outputs": [
    {
     "output_type": "stream",
     "name": "stdout",
     "text": "La media de las ganancias semanales sin cancelar reuniones es:  2687.4\nvalor t con grados de libertad α/2 y n-1  1.9623414611334487\nUn intervalo con un 95 por ciento de confianza para la media poblacional del ingreso de sara es:  (2682.7142486902076, 2692.0857513097926)\n"
    }
   ],
   "source": [
    "cancelarReuniones = False\n",
    "datosSimulacion = simular(n, cancelarReuniones, minimoReservaciones, probabilidadExito, precioOperacion)\n",
    "media, desviacionEstandar = calcularEstimadores(datosSimulacion)\n",
    "print(\"La media de las ganancias semanales sin cancelar reuniones es: \",media)\n",
    "intervaloMediaIngresos = calcularIntervaloConfianzaMedia(media, desviacionEstandar, n, alfa)\n",
    "print(\"Un intervalo con un 95 por ciento de confianza para la media poblacional del ingreso de sara es: \", intervaloMediaIngresos)"
   ]
  }
 ],
 "metadata": {
  "kernelspec": {
   "display_name": "Python 3.8.5 64-bit",
   "language": "python",
   "name": "python_defaultSpec_1599671557898"
  },
  "language_info": {
   "codemirror_mode": {
    "name": "ipython",
    "version": 3
   },
   "file_extension": ".py",
   "mimetype": "text/x-python",
   "name": "python",
   "nbconvert_exporter": "python",
   "pygments_lexer": "ipython3",
   "version": "3.8.5-final"
  }
 },
 "nbformat": 4,
 "nbformat_minor": 4
}